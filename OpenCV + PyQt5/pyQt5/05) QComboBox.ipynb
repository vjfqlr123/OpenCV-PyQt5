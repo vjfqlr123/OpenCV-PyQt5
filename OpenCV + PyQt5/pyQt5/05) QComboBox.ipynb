{
 "cells": [
  {
   "cell_type": "code",
   "execution_count": null,
   "id": "396a7245",
   "metadata": {},
   "outputs": [],
   "source": [
    "import sys\n",
    "from PyQt5.QtWidgets import QApplication, QWidget, QLabel, QComboBox\n",
    "\n",
    "\n",
    "class MyApp(QWidget):\n",
    "\n",
    "    def __init__(self):\n",
    "        super().__init__()\n",
    "        self.initUI()\n",
    "\n",
    "    def initUI(self):\n",
    "        self.lbl = QLabel('Option1', self)\n",
    "        self.lbl.move(50, 150)\n",
    "\n",
    "        cb = QComboBox(self)\n",
    "        cb.addItem('Option1')\n",
    "        cb.addItem('Option2')\n",
    "        cb.addItem('Option3')\n",
    "        cb.addItem('Option4')\n",
    "        cb.move(50, 50)\n",
    "\n",
    "        cb.activated[str].connect(self.onActivated)\n",
    "\n",
    "        self.setWindowTitle('QComboBox')\n",
    "        self.setGeometry(300, 300, 300, 200)\n",
    "        self.show()\n",
    "\n",
    "    def onActivated(self, text):\n",
    "        self.lbl.setText(text)\n",
    "        self.lbl.adjustSize()\n",
    "\n",
    "\n",
    "if __name__ == '__main__':\n",
    "    app = QApplication(sys.argv)\n",
    "    ex = MyApp()\n",
    "    sys.exit(app.exec_())"
   ]
  }
 ],
 "metadata": {
  "kernelspec": {
   "display_name": "Python 3",
   "language": "python",
   "name": "python3"
  },
  "language_info": {
   "codemirror_mode": {
    "name": "ipython",
    "version": 3
   },
   "file_extension": ".py",
   "mimetype": "text/x-python",
   "name": "python",
   "nbconvert_exporter": "python",
   "pygments_lexer": "ipython3",
   "version": "3.7.10"
  }
 },
 "nbformat": 4,
 "nbformat_minor": 5
}
