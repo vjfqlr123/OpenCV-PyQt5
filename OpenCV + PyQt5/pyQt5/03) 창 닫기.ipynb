{
 "cells": [
  {
   "cell_type": "code",
   "execution_count": null,
   "id": "c16138dc",
   "metadata": {},
   "outputs": [],
   "source": [
    "import sys\n",
    "from PyQt5.QtWidgets import QApplication, QWidget, QPushButton\n",
    "from PyQt5.QtCore import QCoreApplication\n",
    "\n",
    "\n",
    "class MyApp(QWidget):\n",
    "\n",
    "  def __init__(self):\n",
    "      super().__init__()\n",
    "      self.initUI()\n",
    "\n",
    "  def initUI(self):\n",
    "      btn = QPushButton('Quit', self)\n",
    "      btn.move(50, 50)\n",
    "      btn.resize(btn.sizeHint())\n",
    "      btn.clicked.connect(QCoreApplication.instance().quit)\n",
    "\n",
    "      self.setWindowTitle('Quit Button')\n",
    "      self.setGeometry(300, 300, 300, 200)\n",
    "      self.show()\n",
    "\n",
    "\n",
    "if __name__ == '__main__':\n",
    "    app = QApplication(sys.argv)\n",
    "    ex = MyApp()\n",
    "    sys.exit(app.exec_())"
   ]
  },
  {
   "cell_type": "code",
   "execution_count": null,
   "id": "991f7705",
   "metadata": {},
   "outputs": [],
   "source": []
  }
 ],
 "metadata": {
  "kernelspec": {
   "display_name": "Python 3",
   "language": "python",
   "name": "python3"
  },
  "language_info": {
   "codemirror_mode": {
    "name": "ipython",
    "version": 3
   },
   "file_extension": ".py",
   "mimetype": "text/x-python",
   "name": "python",
   "nbconvert_exporter": "python",
   "pygments_lexer": "ipython3",
   "version": "3.7.10"
  }
 },
 "nbformat": 4,
 "nbformat_minor": 5
}
