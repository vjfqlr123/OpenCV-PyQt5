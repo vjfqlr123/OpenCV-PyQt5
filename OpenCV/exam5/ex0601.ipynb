{
 "cells": [
  {
   "cell_type": "code",
   "execution_count": 1,
   "id": "193c8d0e",
   "metadata": {},
   "outputs": [],
   "source": [
    "import cv2\n",
    "import numpy as np"
   ]
  },
  {
   "cell_type": "code",
   "execution_count": 2,
   "id": "3ee1681c",
   "metadata": {},
   "outputs": [],
   "source": [
    "src = cv2.imread('../opencv_data/lena.jpg', cv2.IMREAD_GRAYSCALE)"
   ]
  },
  {
   "cell_type": "code",
   "execution_count": 3,
   "id": "b00a1886",
   "metadata": {},
   "outputs": [],
   "source": [
    "dst1 = cv2.boxFilter(src, ddepth = -1, ksize = (11, 11))\n",
    "dst2 = cv2.boxFilter(src, ddepth = -1, ksize = (21, 21))"
   ]
  },
  {
   "cell_type": "code",
   "execution_count": 4,
   "id": "164dfb2e",
   "metadata": {},
   "outputs": [],
   "source": [
    "dst3 = cv2.bilateralFilter(src, d= 11, sigmaColor = 10, sigmaSpace = 10)\n",
    "dst4 = cv2.bilateralFilter(src, d= -1, sigmaColor = 10, sigmaSpace = 10)"
   ]
  },
  {
   "cell_type": "code",
   "execution_count": 5,
   "id": "fd65c43f",
   "metadata": {},
   "outputs": [],
   "source": [
    "cv2.imshow('dst1', dst1)\n",
    "cv2.imshow('dst2', dst2)\n",
    "cv2.imshow('dst3', dst3)\n",
    "cv2.imshow('dst4', dst4)\n",
    "cv2.waitKey()\n",
    "cv2.destroyAllWindows()"
   ]
  },
  {
   "cell_type": "code",
   "execution_count": null,
   "id": "a4f4f2e3",
   "metadata": {},
   "outputs": [],
   "source": []
  }
 ],
 "metadata": {
  "kernelspec": {
   "display_name": "Python 3",
   "language": "python",
   "name": "python3"
  },
  "language_info": {
   "codemirror_mode": {
    "name": "ipython",
    "version": 3
   },
   "file_extension": ".py",
   "mimetype": "text/x-python",
   "name": "python",
   "nbconvert_exporter": "python",
   "pygments_lexer": "ipython3",
   "version": "3.7.10"
  }
 },
 "nbformat": 4,
 "nbformat_minor": 5
}
