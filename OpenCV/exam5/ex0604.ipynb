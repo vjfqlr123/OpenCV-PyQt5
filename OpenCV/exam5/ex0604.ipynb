{
 "cells": [
  {
   "cell_type": "code",
   "execution_count": 1,
   "id": "1ae332fb",
   "metadata": {},
   "outputs": [],
   "source": [
    "import cv2\n",
    "import numpy as np\n",
    "import matplotlib.pyplot as plt"
   ]
  },
  {
   "cell_type": "code",
   "execution_count": 2,
   "id": "7b61f3a6",
   "metadata": {},
   "outputs": [],
   "source": [
    "src = cv2.imread('../opencv_data/rect.jpg', cv2.IMREAD_GRAYSCALE)\n",
    "cv2.imshow('src', src)\n",
    "cv2.waitKey()\n",
    "cv2.destroyAllWindows()"
   ]
  },
  {
   "cell_type": "code",
   "execution_count": 12,
   "id": "cc1484e4",
   "metadata": {},
   "outputs": [
    {
     "name": "stdout",
     "output_type": "stream",
     "text": [
      "(0.0, 6.281197547912598, (0, 0), (357, 120))\n"
     ]
    }
   ],
   "source": [
    "#1\n",
    "gx = cv2.Sobel(src, cv2.CV_32F, 1, 0, ksize = 3)\n",
    "gy = cv2.Sobel(src, cv2.CV_32F, 0, 1, ksize = 3)\n",
    "\n",
    "mag, angle = cv2.cartToPolar(gx, gy, True)\n",
    "minVal, maxVal, minLoc, maxLoc = cv2.minMaxLoc(angle)\n",
    "print(cv2.minMaxLoc(angle))"
   ]
  },
  {
   "cell_type": "code",
   "execution_count": 9,
   "id": "3fb20108",
   "metadata": {},
   "outputs": [],
   "source": [
    "#2\n",
    "ret, edge = cv2.threshold(mag, 100, 255, cv2.THRESH_BINARY)\n",
    "edge = edge.astype(np.uint8)\n",
    "cv2.imshow('edge', edge)\n",
    "cv2.waitKey()\n",
    "cv2.destroyAllWindows()"
   ]
  },
  {
   "cell_type": "code",
   "execution_count": 13,
   "id": "0f5a76b7",
   "metadata": {},
   "outputs": [],
   "source": [
    "#3\n",
    "height, wight = mag.shape[:2]\n",
    "angleM = np.full((height, wight, 3), (255,255,255), dtype = np.uint8)\n",
    "for y in range(height):\n",
    "    for x in range(wight):\n",
    "        if edge[y, x] != 0:\n",
    "            if angle[y, x] == 0:\n",
    "                angleM[y, x] = (0, 0, 255)\n",
    "                \n",
    "            elif angle[y, x] == 90:\n",
    "                angleM[y, x] = (0, 255, 0)\n",
    "                \n",
    "            elif angle[y, x] == 180:\n",
    "                angleM[y, x] = (255, 0, 0)\n",
    "                \n",
    "            elif angle[y, x] == 270:\n",
    "                angleM[y, x] = (0, 255, 255)\n",
    "                \n",
    "            else:\n",
    "                angleM[y, x] = (128, 128, 128)\n",
    "                \n",
    "cv2.imshow('angleM', angleM)\n",
    "cv2.waitKey()\n",
    "cv2.destroyAllWindows()"
   ]
  },
  {
   "cell_type": "code",
   "execution_count": null,
   "id": "61aac632",
   "metadata": {},
   "outputs": [],
   "source": [
    "#4\n",
    "hist = cv2.calcHist(images = [angle], channels = [0], mask = edge, histSize = [360], ranges = [0, 360])\n",
    "hist = hist.flatten()\n",
    "plt.plot(hist, color = 'r')\n",
    "binX = np.arange(360)\n",
    "plt.bar(binX, hist, width = 1, color = 'b')\n",
    "plt.show()"
   ]
  }
 ],
 "metadata": {
  "kernelspec": {
   "display_name": "Python 3",
   "language": "python",
   "name": "python3"
  },
  "language_info": {
   "codemirror_mode": {
    "name": "ipython",
    "version": 3
   },
   "file_extension": ".py",
   "mimetype": "text/x-python",
   "name": "python",
   "nbconvert_exporter": "python",
   "pygments_lexer": "ipython3",
   "version": "3.7.10"
  }
 },
 "nbformat": 4,
 "nbformat_minor": 5
}
