{
 "cells": [
  {
   "cell_type": "code",
   "execution_count": 1,
   "id": "7105575b",
   "metadata": {},
   "outputs": [],
   "source": [
    "import cv2\n",
    "import numpy as np"
   ]
  },
  {
   "cell_type": "code",
   "execution_count": 2,
   "id": "22134597",
   "metadata": {},
   "outputs": [],
   "source": [
    "src1 = cv2.imread('../opencv_data/Heart10.jpg', cv2.IMREAD_GRAYSCALE)\n",
    "src2 = cv2.imread('../opencv_data/srcThreshold.png', cv2.IMREAD_GRAYSCALE)\n",
    "cv2.imshow('src1', src1)\n",
    "cv2.imshow('src2', src2)\n",
    "cv2.waitKey()\n",
    "cv2.destroyAllWindows()"
   ]
  },
  {
   "cell_type": "code",
   "execution_count": 3,
   "id": "69f374ae",
   "metadata": {},
   "outputs": [
    {
     "name": "stdout",
     "output_type": "stream",
     "text": [
      "120.0\n"
     ]
    }
   ],
   "source": [
    "ret, dst = cv2.threshold(src1, 120, 255, cv2.THRESH_BINARY)\n",
    "print(ret)\n",
    "\n",
    "ret2, dst2 = cv2.threshold(src1, 200, 255, cv2.THRESH_OTSU)\n",
    "print(ret2)\n",
    "\n",
    "cv2.imshow('dst', dst)\n",
    "cv2.imshow('dst2', dst2)\n",
    "cv2.waitKey()\n",
    "cv2.destroyAllWindows()"
   ]
  },
  {
   "cell_type": "code",
   "execution_count": 8,
   "id": "640b8deb",
   "metadata": {},
   "outputs": [
    {
     "name": "stdout",
     "output_type": "stream",
     "text": [
      "149.0\n"
     ]
    }
   ],
   "source": [
    "ret3, dst3 = cv2.threshold(src2, 0, 255, cv2.THRESH_BINARY+cv2.THRESH_OTSU)\n",
    "print(ret3)\n",
    "cv2.imshow('dst3', dst3)\n",
    "cv2.waitKey()\n",
    "cv2.destroyAllWindows()"
   ]
  },
  {
   "cell_type": "code",
   "execution_count": 12,
   "id": "56b37090",
   "metadata": {},
   "outputs": [],
   "source": [
    "dst4 = cv2.adaptiveThreshold(src2, 255, cv2.ADAPTIVE_THRESH_MEAN_C, cv2.THRESH_BINARY, 51, 7)\n",
    "cv2.imshow('dst4', dst4)\n",
    "cv2.waitKey()\n",
    "cv2.destroyAllWindows()"
   ]
  },
  {
   "cell_type": "code",
   "execution_count": 13,
   "id": "3ac39539",
   "metadata": {},
   "outputs": [],
   "source": [
    "dst5 = cv2.adaptiveThreshold(src2, 255, cv2.ADAPTIVE_THRESH_GAUSSIAN_C, cv2.THRESH_BINARY, 51, 7)\n",
    "cv2.imshow('dst5', dst5)\n",
    "cv2.waitKey()\n",
    "cv2.destroyAllWindows()"
   ]
  },
  {
   "cell_type": "code",
   "execution_count": null,
   "id": "35f4885d",
   "metadata": {},
   "outputs": [],
   "source": []
  }
 ],
 "metadata": {
  "kernelspec": {
   "display_name": "Python 3",
   "language": "python",
   "name": "python3"
  },
  "language_info": {
   "codemirror_mode": {
    "name": "ipython",
    "version": 3
   },
   "file_extension": ".py",
   "mimetype": "text/x-python",
   "name": "python",
   "nbconvert_exporter": "python",
   "pygments_lexer": "ipython3",
   "version": "3.7.10"
  }
 },
 "nbformat": 4,
 "nbformat_minor": 5
}
