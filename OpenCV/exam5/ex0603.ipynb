{
 "cells": [
  {
   "cell_type": "code",
   "execution_count": 1,
   "id": "1b19fd6f",
   "metadata": {},
   "outputs": [],
   "source": [
    "import cv2\n",
    "import numpy as np"
   ]
  },
  {
   "cell_type": "code",
   "execution_count": 2,
   "id": "d5f0db70",
   "metadata": {},
   "outputs": [],
   "source": [
    "src = cv2.imread('../opencv_data/rect.jpg', cv2.IMREAD_GRAYSCALE)"
   ]
  },
  {
   "cell_type": "code",
   "execution_count": 3,
   "id": "9bc8de3d",
   "metadata": {},
   "outputs": [],
   "source": [
    "gx = cv2.Sobel(src, cv2.CV_32F, 1, 0, ksize = 3)\n",
    "gy = cv2.Sobel(src, cv2.CV_32F, 0, 1, ksize = 3)"
   ]
  },
  {
   "cell_type": "code",
   "execution_count": 4,
   "id": "194ce7fa",
   "metadata": {},
   "outputs": [
    {
     "name": "stdout",
     "output_type": "stream",
     "text": [
      "(0.0, 1053.8966064453125, (0, 0), (356, 328))\n"
     ]
    }
   ],
   "source": [
    "mag = cv2.magnitude(gx, gy)\n",
    "print(cv2.minMaxLoc(mag))"
   ]
  },
  {
   "cell_type": "code",
   "execution_count": 6,
   "id": "c65861ca",
   "metadata": {},
   "outputs": [],
   "source": [
    "dstM = cv2.normalize(mag, None, 0, 255, cv2.NORM_MINMAX, dtype = cv2.CV_8U)\n",
    "cv2.imshow('src', src)\n",
    "cv2.imshow('dstM', dstM)\n",
    "cv2.waitKey()\n",
    "cv2.destroyAllWindows()"
   ]
  },
  {
   "cell_type": "code",
   "execution_count": null,
   "id": "2de6557d",
   "metadata": {},
   "outputs": [],
   "source": []
  }
 ],
 "metadata": {
  "kernelspec": {
   "display_name": "Python 3",
   "language": "python",
   "name": "python3"
  },
  "language_info": {
   "codemirror_mode": {
    "name": "ipython",
    "version": 3
   },
   "file_extension": ".py",
   "mimetype": "text/x-python",
   "name": "python",
   "nbconvert_exporter": "python",
   "pygments_lexer": "ipython3",
   "version": "3.7.10"
  }
 },
 "nbformat": 4,
 "nbformat_minor": 5
}
