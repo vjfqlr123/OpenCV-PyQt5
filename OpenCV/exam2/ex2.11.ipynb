{
 "cells": [
  {
   "cell_type": "code",
   "execution_count": null,
   "id": "fe0b7a29",
   "metadata": {},
   "outputs": [],
   "source": [
    "import cv2\n",
    "import matplotlib.pyplot as plt"
   ]
  },
  {
   "cell_type": "code",
   "execution_count": null,
   "id": "cde07b31",
   "metadata": {},
   "outputs": [],
   "source": [
    "def handle_key_press(event):\n",
    "    if event.key == 'escape':\n",
    "        cap.release()\n",
    "        plt.close()\n",
    "\n",
    "def handle_close(evt):\n",
    "    print('close figure')\n",
    "    cap.release()"
   ]
  },
  {
   "cell_type": "code",
   "execution_count": null,
   "id": "9e1c37c2",
   "metadata": {},
   "outputs": [],
   "source": [
    "cap = cv2.VideoCapture(0)\n",
    "\n",
    "plt.ion()\n",
    "fig = plt.figure(figsize=(5, 3))\n",
    "plt.axis('off')\n",
    "fig.canvas.set_window_title('Video Capture')\n",
    "fig.canvas.mpl_connect('key_press_event', handle_key_press)\n",
    "fig.canvas.mpl_connect('close_event', handle_close)\n",
    "\n",
    "retval, frame = cap.read()\n",
    "im = plt.imshow(cv2.cvtColor(frame, cv2.COLOR_BGR2RGB))"
   ]
  },
  {
   "cell_type": "code",
   "execution_count": null,
   "id": "46e1f310",
   "metadata": {},
   "outputs": [],
   "source": [
    "while 1:\n",
    "    retval, frame = cap.read()\n",
    "    if not retval:\n",
    "        break\n",
    "    \n",
    "    #plt.imshow(cv2.cvtColor(frame, cv2.COLOR_BGR2RGB))\n",
    "    im.set_array(cv2.cvtColor(frame, cv2.COLOR_BGR2RGB))\n",
    "    fig.canvas.draw()\n",
    "    fig.canvas.flush_events()\n",
    "\n",
    "if cap.isOpened():\n",
    "    cap.release()"
   ]
  }
 ],
 "metadata": {
  "kernelspec": {
   "display_name": "Python 3",
   "language": "python",
   "name": "python3"
  },
  "language_info": {
   "codemirror_mode": {
    "name": "ipython",
    "version": 3
   },
   "file_extension": ".py",
   "mimetype": "text/x-python",
   "name": "python",
   "nbconvert_exporter": "python",
   "pygments_lexer": "ipython3",
   "version": "3.7.10"
  }
 },
 "nbformat": 4,
 "nbformat_minor": 5
}
