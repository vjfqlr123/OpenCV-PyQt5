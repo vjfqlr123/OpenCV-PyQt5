{
 "cells": [
  {
   "cell_type": "code",
   "execution_count": 1,
   "id": "bf5ae068",
   "metadata": {},
   "outputs": [],
   "source": [
    "import cv2\n",
    "import matplotlib.pyplot as plt"
   ]
  },
  {
   "cell_type": "code",
   "execution_count": 2,
   "id": "f0354015",
   "metadata": {},
   "outputs": [],
   "source": [
    "path = './opencv_data/'\n",
    "img1 = cv2.imread(path + 'lena.jpg')\n",
    "img2 = cv2.imread(path + 'apple.jpg')\n",
    "img3 = cv2.imread(path + 'baboon.jpg')\n",
    "img4 = cv2.imread(path + 'orange.jpg')"
   ]
  },
  {
   "cell_type": "code",
   "execution_count": 3,
   "id": "cb507cee",
   "metadata": {},
   "outputs": [],
   "source": [
    "img1 = cv2.cvtColor(img1, cv2.COLOR_BGR2RGB)\n",
    "img2 = cv2.cvtColor(img2, cv2.COLOR_BGR2RGB)\n",
    "img3 = cv2.cvtColor(img3, cv2.COLOR_BGR2RGB)\n",
    "img4 = cv2.cvtColor(img4, cv2.COLOR_BGR2RGB)"
   ]
  },
  {
   "cell_type": "code",
   "execution_count": 4,
   "id": "d5d8dfa1",
   "metadata": {},
   "outputs": [
    {
     "data": {
      "image/png": "[encoded data removed]",
      "text/plain": [
       "<Figure size 720x720 with 4 Axes>"
      ]
     },
     "metadata": {
      "needs_background": "light"
     },
     "output_type": "display_data"
    }
   ],
   "source": [
    "fig, ax = plt.subplots(2, 2, figsize = (10, 10), sharey = True)\n",
    "fig.canvas.set_window_title('Sample')"
   ]
  },
  {
   "cell_type": "code",
   "execution_count": 5,
   "id": "0e3b327a",
   "metadata": {},
   "outputs": [
    {
     "data": {
      "text/plain": [
       "<matplotlib.image.AxesImage at 0x194dc6a2dc8>"
      ]
     },
     "execution_count": 5,
     "metadata": {},
     "output_type": "execute_result"
    }
   ],
   "source": [
    "ax[0][0].axis('off')\n",
    "ax[0][0].imshow(img1, aspect = 'auto')\n",
    "ax[0][1].axis('off')\n",
    "ax[0][1].imshow(img2, aspect = 'auto')\n",
    "ax[1][0].axis('off')\n",
    "ax[1][0].imshow(img3, aspect = 'auto')\n",
    "ax[1][0].axis('off')\n",
    "ax[1][1].imshow(img4, aspect = 'auto')"
   ]
  },
  {
   "cell_type": "code",
   "execution_count": null,
   "id": "83447787",
   "metadata": {},
   "outputs": [],
   "source": [
    "plt.subplot_adjust(left = 0, bottom = 0, right = 1, top = 1, wspace = 0.05, hspace = 0.05)\n",
    "plt.savefig(\"./opencv_data/0206.png\", )"
   ]
  }
 ],
 "metadata": {
  "kernelspec": {
   "display_name": "Python 3",
   "language": "python",
   "name": "python3"
  },
  "language_info": {
   "codemirror_mode": {
    "name": "ipython",
    "version": 3
   },
   "file_extension": ".py",
   "mimetype": "text/x-python",
   "name": "python",
   "nbconvert_exporter": "python",
   "pygments_lexer": "ipython3",
   "version": "3.7.10"
  }
 },
 "nbformat": 4,
 "nbformat_minor": 5
}
