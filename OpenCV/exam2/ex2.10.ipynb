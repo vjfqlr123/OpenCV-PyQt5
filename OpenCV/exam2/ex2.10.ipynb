{
 "cells": [
  {
   "cell_type": "code",
   "execution_count": 1,
   "id": "e6d405cd",
   "metadata": {},
   "outputs": [],
   "source": [
    "import cv2"
   ]
  },
  {
   "cell_type": "code",
   "execution_count": 2,
   "id": "aaf9bfe4",
   "metadata": {},
   "outputs": [
    {
     "data": {
      "text/plain": [
       "(640, 480)"
      ]
     },
     "execution_count": 2,
     "metadata": {},
     "output_type": "execute_result"
    }
   ],
   "source": [
    "cap = cv2.VideoCapture(0)\n",
    "frame_size = (int(cap.get(cv2.CAP_PROP_FRAME_WIDTH)),\n",
    "             int(cap.get(cv2.CAP_PROP_FRAME_HEIGHT)))\n",
    "\n",
    "frame_size"
   ]
  },
  {
   "cell_type": "code",
   "execution_count": 3,
   "id": "123132ca",
   "metadata": {},
   "outputs": [],
   "source": [
    "fourcc = cv2.VideoWriter_fourcc(*'XVID')"
   ]
  },
  {
   "cell_type": "code",
   "execution_count": 4,
   "id": "2b86a576",
   "metadata": {},
   "outputs": [],
   "source": [
    "out1 = cv2.VideoWriter('./record0.mp4', fourcc, 20.0, frame_size)\n",
    "out2 = cv2.VideoWriter('./record1.mp4', fourcc, 20.0, frame_size, isColor = False)"
   ]
  },
  {
   "cell_type": "code",
   "execution_count": 5,
   "id": "dfe0b1a3",
   "metadata": {},
   "outputs": [],
   "source": [
    "while 1:\n",
    "    retval, frame = cap.read()\n",
    "    if not retval:\n",
    "        break\n",
    "    out1.write(frame)\n",
    "    \n",
    "    gray = cv2.cvtColor(frame, cv2.COLOR_BGR2GRAY)\n",
    "    out2.write(gray)\n",
    "    cv2.imshow('frame', frame)\n",
    "    cv2.imshow('gray', gray)\n",
    "    \n",
    "    key = cv2.waitKey(25)\n",
    "    if key == 27:\n",
    "        cv2.imwrite('./picture02.png', frame)\n",
    "        cv2.imwrite('./picture03.png', gray)\n",
    "        break\n",
    "        \n",
    "cap.release()\n",
    "out1.release()\n",
    "out2.release()\n",
    "cv2.destroyAllWindows()"
   ]
  },
  {
   "cell_type": "code",
   "execution_count": null,
   "id": "7723071c",
   "metadata": {},
   "outputs": [],
   "source": []
  }
 ],
 "metadata": {
  "kernelspec": {
   "display_name": "Python 3",
   "language": "python",
   "name": "python3"
  },
  "language_info": {
   "codemirror_mode": {
    "name": "ipython",
    "version": 3
   },
   "file_extension": ".py",
   "mimetype": "text/x-python",
   "name": "python",
   "nbconvert_exporter": "python",
   "pygments_lexer": "ipython3",
   "version": "3.7.10"
  }
 },
 "nbformat": 4,
 "nbformat_minor": 5
}
