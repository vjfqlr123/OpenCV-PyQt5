{
 "cells": [
  {
   "cell_type": "code",
   "execution_count": 1,
   "id": "cbe10bdd",
   "metadata": {},
   "outputs": [],
   "source": [
    "import cv2"
   ]
  },
  {
   "cell_type": "code",
   "execution_count": 2,
   "id": "ff94cd94",
   "metadata": {},
   "outputs": [],
   "source": [
    "imageFile = './opencv_data/lena.jpg'"
   ]
  },
  {
   "cell_type": "code",
   "execution_count": 3,
   "id": "e0eca7fb",
   "metadata": {},
   "outputs": [],
   "source": [
    "img = cv2.imread(imageFile)"
   ]
  },
  {
   "cell_type": "code",
   "execution_count": 5,
   "id": "d974af2c",
   "metadata": {},
   "outputs": [
    {
     "data": {
      "text/plain": [
       "True"
      ]
     },
     "execution_count": 5,
     "metadata": {},
     "output_type": "execute_result"
    }
   ],
   "source": [
    "cv2.imwrite('./lena.bmp', img)\n",
    "cv2.imwrite('./lena.png', img)\n",
    "cv2.imwrite('./lena2.png', img, [cv2.IMWRITE_PNG_COMPRESSION, 5]) # 0~9\n",
    "cv2.imwrite('./lena2.jpg', img, [cv2.IMWRITE_JPEG_QUALITY, 50])"
   ]
  },
  {
   "cell_type": "code",
   "execution_count": null,
   "id": "e77e6cf0",
   "metadata": {},
   "outputs": [],
   "source": []
  }
 ],
 "metadata": {
  "kernelspec": {
   "display_name": "Python 3",
   "language": "python",
   "name": "python3"
  },
  "language_info": {
   "codemirror_mode": {
    "name": "ipython",
    "version": 3
   },
   "file_extension": ".py",
   "mimetype": "text/x-python",
   "name": "python",
   "nbconvert_exporter": "python",
   "pygments_lexer": "ipython3",
   "version": "3.7.10"
  }
 },
 "nbformat": 4,
 "nbformat_minor": 5
}
