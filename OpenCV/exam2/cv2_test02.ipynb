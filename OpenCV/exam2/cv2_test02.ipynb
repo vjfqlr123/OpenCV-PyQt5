{
 "cells": [
  {
   "cell_type": "code",
   "execution_count": 1,
   "id": "780e29e8",
   "metadata": {},
   "outputs": [],
   "source": [
    "import cv2\n",
    "import numpy as np\n",
    "import matplotlib.pyplot as plt"
   ]
  },
  {
   "cell_type": "code",
   "execution_count": 2,
   "id": "0828d08a",
   "metadata": {},
   "outputs": [],
   "source": [
    "img = np.zeros(shape=(512,512,3), dtype=np.uint8) + 255"
   ]
  },
  {
   "cell_type": "code",
   "execution_count": 7,
   "id": "9e012988",
   "metadata": {},
   "outputs": [
    {
     "name": "stdout",
     "output_type": "stream",
     "text": [
      "0\n"
     ]
    }
   ],
   "source": [
    "x1, x2 = 100, 400\n",
    "y1, y2 = 100, 400\n",
    "cv2.rectangle(img, (x1, y1), (x2, y2), (0, 0, 255))\n",
    "print(0)"
   ]
  },
  {
   "cell_type": "code",
   "execution_count": 9,
   "id": "ea0084bb",
   "metadata": {},
   "outputs": [
    {
     "name": "stdout",
     "output_type": "stream",
     "text": [
      "0\n"
     ]
    }
   ],
   "source": [
    "pt1 = 120, 50\n",
    "pt2 = 300, 500\n",
    "cv2.line(img, pt1, pt2, (255, 0, 0), 2)\n",
    "print(0)"
   ]
  },
  {
   "cell_type": "code",
   "execution_count": 20,
   "id": "29fc7c50",
   "metadata": {},
   "outputs": [],
   "source": [
    "imgRect = (x1, y1, x2 - x1, y2 - y1)"
   ]
  },
  {
   "cell_type": "code",
   "execution_count": 24,
   "id": "42e47f05",
   "metadata": {},
   "outputs": [
    {
     "data": {
      "text/plain": [
       "(100, 100, 300, 300)"
      ]
     },
     "execution_count": 24,
     "metadata": {},
     "output_type": "execute_result"
    }
   ],
   "source": [
    "imgRect"
   ]
  },
  {
   "cell_type": "code",
   "execution_count": 21,
   "id": "22e1769a",
   "metadata": {},
   "outputs": [],
   "source": [
    "retval, rpt1, rpt2 = cv2.clipLine(imgRect, pt1, pt2)"
   ]
  },
  {
   "cell_type": "code",
   "execution_count": 25,
   "id": "4c3987bb",
   "metadata": {},
   "outputs": [
    {
     "data": {
      "text/plain": [
       "True"
      ]
     },
     "execution_count": 25,
     "metadata": {},
     "output_type": "execute_result"
    }
   ],
   "source": [
    "retval"
   ]
  },
  {
   "cell_type": "code",
   "execution_count": 26,
   "id": "c1fa366a",
   "metadata": {},
   "outputs": [
    {
     "data": {
      "text/plain": [
       "(140, 100)"
      ]
     },
     "execution_count": 26,
     "metadata": {},
     "output_type": "execute_result"
    }
   ],
   "source": [
    "rpt1"
   ]
  },
  {
   "cell_type": "code",
   "execution_count": 27,
   "id": "e649b824",
   "metadata": {},
   "outputs": [
    {
     "data": {
      "text/plain": [
       "(260, 399)"
      ]
     },
     "execution_count": 27,
     "metadata": {},
     "output_type": "execute_result"
    }
   ],
   "source": [
    "rpt2"
   ]
  },
  {
   "cell_type": "code",
   "execution_count": 22,
   "id": "e81991b0",
   "metadata": {},
   "outputs": [],
   "source": [
    "if retval:\n",
    "    cv2.circle(img, rpt1, radius = 5, color = (0, 255, 0), thickness = -1)\n",
    "    cv2.circle(img, rpt2, radius = 5, color = (0, 255, 0), thickness = -1)"
   ]
  },
  {
   "cell_type": "code",
   "execution_count": 23,
   "id": "7968bebc",
   "metadata": {},
   "outputs": [
    {
     "data": {
      "text/plain": [
       "<matplotlib.image.AxesImage at 0x264baab30c8>"
      ]
     },
     "execution_count": 23,
     "metadata": {},
     "output_type": "execute_result"
    },
    {
     "data": {
      "image/png": "[encoded data removed]",
      "text/plain": [
       "<Figure size 432x288 with 1 Axes>"
      ]
     },
     "metadata": {
      "needs_background": "light"
     },
     "output_type": "display_data"
    }
   ],
   "source": [
    "img2 = cv2.cvtColor(img, cv2.COLOR_BGR2RGB)\n",
    "plt.imshow(img2)"
   ]
  },
  {
   "cell_type": "code",
   "execution_count": null,
   "id": "b62daad5",
   "metadata": {},
   "outputs": [],
   "source": []
  }
 ],
 "metadata": {
  "kernelspec": {
   "display_name": "Python 3",
   "language": "python",
   "name": "python3"
  },
  "language_info": {
   "codemirror_mode": {
    "name": "ipython",
    "version": 3
   },
   "file_extension": ".py",
   "mimetype": "text/x-python",
   "name": "python",
   "nbconvert_exporter": "python",
   "pygments_lexer": "ipython3",
   "version": "3.7.10"
  }
 },
 "nbformat": 4,
 "nbformat_minor": 5
}
