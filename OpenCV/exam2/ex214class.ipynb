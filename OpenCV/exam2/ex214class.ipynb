{
 "cells": [
  {
   "cell_type": "code",
   "execution_count": null,
   "id": "f9dec8ee",
   "metadata": {},
   "outputs": [],
   "source": [
    "import cv2\n",
    "import matplotlib.pyplot as plt\n",
    "import matplotlib.animation as animation"
   ]
  },
  {
   "cell_type": "code",
   "execution_count": null,
   "id": "72994340",
   "metadata": {},
   "outputs": [],
   "source": [
    "class Video(animation.FuncAnimation):\n",
    "    def __init__(self, device=0, fig = None, frames = None, interval = 50, repeat_delay = 5, blit = False, **kwargs):\n",
    "        \n",
    "        if fig is None:\n",
    "            self.fig = plt.figure()\n",
    "            self.fig.canvas.set_window_title('Video Capture')\n",
    "            plt.axis('off')\n",
    "            \n",
    "        super(Video, self).__init__(self.fig, self.updateFrame, init_func = self.init, frames = frames, interval = interval, blit = blit,\n",
    "                                   repeat_delay = repeat_delay, **kwargs)\n",
    "        self.cap = cv2.VideoCapture(device)\n",
    "        print(\"start capture\")\n",
    "        \n",
    "    def init(self):\n",
    "        retval, self.frame = self.cap.read()\n",
    "        if retval:\n",
    "            self.im = plt.imshow(cv2.cvtColor(self.frame, cv2.COLOR_BGR2RGB))\n",
    "    \n",
    "    def updateFrame(self, k):\n",
    "        retval, self.frame = self.cap.read()\n",
    "        if retval:\n",
    "            self.im.set_array(cv2.cvtColor(camera.frame, cv2.COLOR_BGR2RGB))\n",
    "            \n",
    "    def close(self):\n",
    "        if self.cap.isOpened():\n",
    "            self.cap.release()\n",
    "        print(\"finish capture\")\n",
    "        \n"
   ]
  },
  {
   "cell_type": "code",
   "execution_count": null,
   "id": "a00082ff",
   "metadata": {},
   "outputs": [],
   "source": [
    "# 프로그램 시작\n",
    "camera = Video()\n",
    "plt.show()\n",
    "camera.close()"
   ]
  }
 ],
 "metadata": {
  "kernelspec": {
   "display_name": "Python 3",
   "language": "python",
   "name": "python3"
  },
  "language_info": {
   "codemirror_mode": {
    "name": "ipython",
    "version": 3
   },
   "file_extension": ".py",
   "mimetype": "text/x-python",
   "name": "python",
   "nbconvert_exporter": "python",
   "pygments_lexer": "ipython3",
   "version": "3.7.10"
  }
 },
 "nbformat": 4,
 "nbformat_minor": 5
}
