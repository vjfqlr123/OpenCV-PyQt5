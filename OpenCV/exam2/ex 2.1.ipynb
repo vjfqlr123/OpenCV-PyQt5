{
 "cells": [
  {
   "cell_type": "code",
   "execution_count": 1,
   "id": "f11f7b2b",
   "metadata": {},
   "outputs": [],
   "source": [
    "import cv2"
   ]
  },
  {
   "cell_type": "code",
   "execution_count": 2,
   "id": "86c63d31",
   "metadata": {},
   "outputs": [],
   "source": [
    "imageFile = './opencv_data/lena.jpg'"
   ]
  },
  {
   "cell_type": "code",
   "execution_count": 3,
   "id": "184118fe",
   "metadata": {},
   "outputs": [],
   "source": [
    "img = cv2.imread(imageFile)"
   ]
  },
  {
   "cell_type": "code",
   "execution_count": 4,
   "id": "29cf4206",
   "metadata": {},
   "outputs": [],
   "source": [
    "cv2.imshow('lena color', img)\n",
    "cv2.waitKey()\n",
    "cv2.destroyAllWindows()"
   ]
  },
  {
   "cell_type": "code",
   "execution_count": null,
   "id": "4b0b95be",
   "metadata": {},
   "outputs": [],
   "source": []
  }
 ],
 "metadata": {
  "kernelspec": {
   "display_name": "Python 3",
   "language": "python",
   "name": "python3"
  },
  "language_info": {
   "codemirror_mode": {
    "name": "ipython",
    "version": 3
   },
   "file_extension": ".py",
   "mimetype": "text/x-python",
   "name": "python",
   "nbconvert_exporter": "python",
   "pygments_lexer": "ipython3",
   "version": "3.7.10"
  }
 },
 "nbformat": 4,
 "nbformat_minor": 5
}
