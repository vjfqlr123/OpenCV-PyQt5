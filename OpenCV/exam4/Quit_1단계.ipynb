{
 "cells": [
  {
   "cell_type": "code",
   "execution_count": 1,
   "id": "236028a1",
   "metadata": {},
   "outputs": [],
   "source": [
    "import cv2\n",
    "import numpy as np"
   ]
  },
  {
   "cell_type": "code",
   "execution_count": 3,
   "id": "5fdb1dc0",
   "metadata": {},
   "outputs": [],
   "source": [
    "def onMouse(event, x, y, flags, param):\n",
    "    if event == cv2.EVENT_LBUTTONDOWN:            # 마우스 왼쪽 버튼 클릭\n",
    "        if flags & cv2.EVENT_FLAG_SHIFTKEY:       # shift 키와 함께\n",
    "            cv2.rectangle(param[0], (x-5, y-5), (x+5, y+5), (255,0,0))\n",
    "        else:\n",
    "            text = 'Hello OpenCV'\n",
    "            org = (x, y)\n",
    "            font = cv2.FONT_HERSHEY_SIMPLEX\n",
    "            cv2.putText(param[0], text, org, font, 1, (255,0,0), 2)\n",
    "    elif event == cv2.EVENT_RBUTTONDOWN:         # 마우스 오른쪽 버튼 클릭\n",
    "        cv2.rectangle(param[0], (x-5, y-5), (x+5, y+5), (0,0,255))\n",
    "    elif event == cv2.EVENT_LBUTTONDBLCLK:       # 마우스 왼쪽 버튼 더블클릭\n",
    "        param[0] = np.zeros(param[0].shape, np.uint8) + 255\n",
    "    cv2.imshow('img', param[0])\n",
    "\n",
    "img = np.zeros((512, 512, 3), np.uint8) +255\n",
    "cv2.imshow('img', img)\n",
    "cv2.setMouseCallback('img', onMouse, [img])\n",
    "cv2.waitKey()\n",
    "cv2.destroyAllWindows()"
   ]
  },
  {
   "cell_type": "code",
   "execution_count": null,
   "id": "470a9516",
   "metadata": {},
   "outputs": [],
   "source": []
  }
 ],
 "metadata": {
  "kernelspec": {
   "display_name": "Python 3",
   "language": "python",
   "name": "python3"
  },
  "language_info": {
   "codemirror_mode": {
    "name": "ipython",
    "version": 3
   },
   "file_extension": ".py",
   "mimetype": "text/x-python",
   "name": "python",
   "nbconvert_exporter": "python",
   "pygments_lexer": "ipython3",
   "version": "3.7.10"
  }
 },
 "nbformat": 4,
 "nbformat_minor": 5
}
