{
 "cells": [
  {
   "cell_type": "code",
   "execution_count": 1,
   "id": "94514921",
   "metadata": {},
   "outputs": [],
   "source": [
    "import cv2\n",
    "import numpy as np"
   ]
  },
  {
   "cell_type": "code",
   "execution_count": 2,
   "id": "97780dec",
   "metadata": {},
   "outputs": [],
   "source": [
    "src = cv2.imread('../opencv_data/lena.jpg')"
   ]
  },
  {
   "cell_type": "code",
   "execution_count": 4,
   "id": "831bf476",
   "metadata": {},
   "outputs": [],
   "source": [
    "rows, cols, ch = src.shape\n",
    "m1=cv2.getRotationMatrix2D((rows/2, cols/2), 45, 0.5)\n",
    "m2=cv2.getRotationMatrix2D((rows/2, cols/2), -45, 1)"
   ]
  },
  {
   "cell_type": "code",
   "execution_count": 5,
   "id": "d45eb6b1",
   "metadata": {},
   "outputs": [],
   "source": [
    "dst1=cv2.warpAffine(src, m1, (rows, cols))\n",
    "dst2=cv2.warpAffine(src, m2, (rows, cols))"
   ]
  },
  {
   "cell_type": "code",
   "execution_count": 6,
   "id": "1d75c5c6",
   "metadata": {},
   "outputs": [],
   "source": [
    "cv2.imshow('dst1', dst1)\n",
    "cv2.imshow('dst2', dst2)\n",
    "cv2.waitKey()\n",
    "cv2.destroyAllWindows()"
   ]
  },
  {
   "cell_type": "code",
   "execution_count": null,
   "id": "6b3687be",
   "metadata": {},
   "outputs": [],
   "source": []
  }
 ],
 "metadata": {
  "kernelspec": {
   "display_name": "Python 3",
   "language": "python",
   "name": "python3"
  },
  "language_info": {
   "codemirror_mode": {
    "name": "ipython",
    "version": 3
   },
   "file_extension": ".py",
   "mimetype": "text/x-python",
   "name": "python",
   "nbconvert_exporter": "python",
   "pygments_lexer": "ipython3",
   "version": "3.7.10"
  }
 },
 "nbformat": 4,
 "nbformat_minor": 5
}
