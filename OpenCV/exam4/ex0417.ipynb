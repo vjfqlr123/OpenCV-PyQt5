{
 "cells": [
  {
   "cell_type": "code",
   "execution_count": 5,
   "id": "e2d9754a",
   "metadata": {},
   "outputs": [],
   "source": [
    "import cv2\n",
    "import numpy as np"
   ]
  },
  {
   "cell_type": "code",
   "execution_count": 6,
   "id": "34650b42",
   "metadata": {},
   "outputs": [],
   "source": [
    "src1 = cv2.imread('../opencv_data/lena.jpg', cv2.IMREAD_GRAYSCALE)\n",
    "src2 = np.zeros(shape = (512, 512), dtype= np.uint8) + 100\n",
    "src3 = np.zeros(shape = (512, 512), dtype= np.uint8) + 255"
   ]
  },
  {
   "cell_type": "code",
   "execution_count": 7,
   "id": "ef5724ec",
   "metadata": {},
   "outputs": [],
   "source": [
    "dst1 = src1 + src2\n",
    "dst2 = cv2.add(src1, src2)\n",
    "dst3 = src1 + src3"
   ]
  },
  {
   "cell_type": "code",
   "execution_count": 8,
   "id": "752200d3",
   "metadata": {},
   "outputs": [],
   "source": [
    "cv2.imshow('src1', src1)\n",
    "cv2.imshow('dst1', dst1)\n",
    "cv2.imshow('dst2', dst2)\n",
    "cv2.imshow('dst3', dst3)\n",
    "cv2.waitKey()\n",
    "cv2.destroyAllWindows()"
   ]
  },
  {
   "cell_type": "code",
   "execution_count": null,
   "id": "b08395b4",
   "metadata": {},
   "outputs": [],
   "source": []
  }
 ],
 "metadata": {
  "kernelspec": {
   "display_name": "Python 3",
   "language": "python",
   "name": "python3"
  },
  "language_info": {
   "codemirror_mode": {
    "name": "ipython",
    "version": 3
   },
   "file_extension": ".py",
   "mimetype": "text/x-python",
   "name": "python",
   "nbconvert_exporter": "python",
   "pygments_lexer": "ipython3",
   "version": "3.7.10"
  }
 },
 "nbformat": 4,
 "nbformat_minor": 5
}
