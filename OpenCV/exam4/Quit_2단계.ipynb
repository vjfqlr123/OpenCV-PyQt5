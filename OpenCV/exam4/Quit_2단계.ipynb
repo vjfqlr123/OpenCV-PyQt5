{
 "cells": [
  {
   "cell_type": "code",
   "execution_count": 21,
   "id": "ce5de78f",
   "metadata": {},
   "outputs": [],
   "source": [
    "import cv2\n",
    "import numpy as np"
   ]
  },
  {
   "cell_type": "code",
   "execution_count": 30,
   "id": "ea6e0bbe",
   "metadata": {},
   "outputs": [],
   "source": [
    "pts = np.array([[266, 266], [246, 246], [256, 246], [246, 256], [256, 256]])\n",
    "direction = 0\n",
    "width, height = 512, 512\n",
    "x, y, R= 256, 256, 100"
   ]
  },
  {
   "cell_type": "code",
   "execution_count": 31,
   "id": "45760916",
   "metadata": {},
   "outputs": [],
   "source": [
    "while 1:\n",
    "    key = cv2.waitKeyEx(30)\n",
    "    if key == 0x1B:\n",
    "        break\n",
    "        \n",
    "# 방향키 방향 전환\n",
    "    elif key == 0x270000:# right\n",
    "        direction = 0\n",
    "    elif key == 0x280000:# down\n",
    "        direction = 1\n",
    "    elif key == 0x250000:# left\n",
    "        direction = 2\n",
    "    elif key == 0x260000:# up\n",
    "        direction = 3\n",
    "\n",
    "# 방향으로 이동\n",
    "    if direction == 0: # right\n",
    "        x += 10\n",
    "    elif direction == 1: # down\n",
    "        y += 10\n",
    "    elif direction == 2: # left\n",
    "        x -= 10\n",
    "    else:              # up\n",
    "        y -= 10\n",
    "        \n",
    "# 경계확인\n",
    "    if x < R:\n",
    "        x = R\n",
    "        direction = 0\n",
    "    if x > width - R:\n",
    "        x= width - R\n",
    "        direction = 2\n",
    "    if y < R:\n",
    "        y = R\n",
    "        direction = 1\n",
    "    if y > height - R:\n",
    "        y = height - R\n",
    "        direction = 3\n",
    "\n",
    "# 지우고 그리기\n",
    "    img = np.zeros((width, height, 3), np.uint8) + 255\n",
    "    cv2.polylines(img, [pts], isClosed = True, color = (255,0,0))\n",
    "    cv2.imshow('img', img)\n",
    "\n",
    "cv2.destroyAllWindows()\n",
    "    "
   ]
  },
  {
   "cell_type": "code",
   "execution_count": 32,
   "id": "6e3406b2",
   "metadata": {},
   "outputs": [
    {
     "name": "stdout",
     "output_type": "stream",
     "text": [
      "[[266 266]\n",
      " [246 246]\n",
      " [256 246]\n",
      " [246 256]\n",
      " [256 256]]\n"
     ]
    }
   ],
   "source": [
    "print(pts)"
   ]
  },
  {
   "cell_type": "code",
   "execution_count": 33,
   "id": "b2c298e4",
   "metadata": {},
   "outputs": [],
   "source": [
    "src1 =np.zeros(pts.shape, np.uint8) + 10\n",
    "src2 =np.zeros(pts.shape, np.uint8) + 10 "
   ]
  },
  {
   "cell_type": "code",
   "execution_count": 38,
   "id": "27bd1cd5",
   "metadata": {},
   "outputs": [
    {
     "data": {
      "text/plain": [
       "array([10, 10], dtype=uint8)"
      ]
     },
     "execution_count": 38,
     "metadata": {},
     "output_type": "execute_result"
    }
   ],
   "source": [
    "src1[0]"
   ]
  },
  {
   "cell_type": "code",
   "execution_count": null,
   "id": "a959fc8e",
   "metadata": {},
   "outputs": [],
   "source": []
  }
 ],
 "metadata": {
  "kernelspec": {
   "display_name": "Python 3",
   "language": "python",
   "name": "python3"
  },
  "language_info": {
   "codemirror_mode": {
    "name": "ipython",
    "version": 3
   },
   "file_extension": ".py",
   "mimetype": "text/x-python",
   "name": "python",
   "nbconvert_exporter": "python",
   "pygments_lexer": "ipython3",
   "version": "3.7.10"
  }
 },
 "nbformat": 4,
 "nbformat_minor": 5
}
