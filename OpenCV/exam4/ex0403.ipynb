{
 "cells": [
  {
   "cell_type": "code",
   "execution_count": 4,
   "id": "35ffeb01",
   "metadata": {},
   "outputs": [],
   "source": [
    "import cv2\n",
    "import numpy as np"
   ]
  },
  {
   "cell_type": "code",
   "execution_count": 5,
   "id": "45b0af72",
   "metadata": {},
   "outputs": [],
   "source": [
    "img = cv2.imread('../opencv_data/lena.jpg', cv2.IMREAD_GRAYSCALE) # 흑백"
   ]
  },
  {
   "cell_type": "code",
   "execution_count": 6,
   "id": "7cb16d4b",
   "metadata": {},
   "outputs": [],
   "source": [
    "img[100, 200] = 0"
   ]
  },
  {
   "cell_type": "code",
   "execution_count": 7,
   "id": "61d91e61",
   "metadata": {},
   "outputs": [
    {
     "data": {
      "text/plain": [
       "array([[  0, 143, 145, 132, 147, 144, 142, 139, 132, 138],\n",
       "       [138, 138, 143, 151, 137, 144, 139, 139, 138, 138],\n",
       "       [132, 139, 153, 140, 133, 136, 143, 138, 137, 128],\n",
       "       [137, 146, 138, 125, 132, 145, 139, 142, 130, 128],\n",
       "       [149, 139, 130, 137, 140, 145, 136, 133, 132, 141],\n",
       "       [141, 139, 134, 149, 149, 137, 132, 127, 140, 140],\n",
       "       [142, 148, 139, 142, 144, 138, 146, 135, 131, 130],\n",
       "       [151, 146, 136, 131, 142, 144, 149, 135, 126, 132],\n",
       "       [147, 131, 135, 138, 147, 139, 128, 125, 134, 138],\n",
       "       [135, 132, 149, 142, 134, 128, 122, 135, 138, 129]], dtype=uint8)"
      ]
     },
     "execution_count": 7,
     "metadata": {},
     "output_type": "execute_result"
    }
   ],
   "source": [
    "img[100:110, 200:210]"
   ]
  },
  {
   "cell_type": "code",
   "execution_count": 8,
   "id": "5a3413b4",
   "metadata": {},
   "outputs": [],
   "source": [
    "for y in range(100, 400):\n",
    "    for x in range(200, 300):\n",
    "        img[y, x]= 0"
   ]
  },
  {
   "cell_type": "code",
   "execution_count": 9,
   "id": "c3cc91b8",
   "metadata": {},
   "outputs": [],
   "source": [
    "img[100:400, 200:300] = 0"
   ]
  },
  {
   "cell_type": "code",
   "execution_count": 10,
   "id": "81dd5bd9",
   "metadata": {},
   "outputs": [],
   "source": [
    "cv2.imshow('img', img)\n",
    "cv2.waitKey()\n",
    "cv2.destroyAllWindows()"
   ]
  },
  {
   "cell_type": "code",
   "execution_count": null,
   "id": "f24d663b",
   "metadata": {},
   "outputs": [],
   "source": []
  }
 ],
 "metadata": {
  "kernelspec": {
   "display_name": "Python 3",
   "language": "python",
   "name": "python3"
  },
  "language_info": {
   "codemirror_mode": {
    "name": "ipython",
    "version": 3
   },
   "file_extension": ".py",
   "mimetype": "text/x-python",
   "name": "python",
   "nbconvert_exporter": "python",
   "pygments_lexer": "ipython3",
   "version": "3.7.10"
  }
 },
 "nbformat": 4,
 "nbformat_minor": 5
}
