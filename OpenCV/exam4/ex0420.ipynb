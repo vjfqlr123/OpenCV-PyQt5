{
 "cells": [
  {
   "cell_type": "code",
   "execution_count": 1,
   "id": "01738818",
   "metadata": {},
   "outputs": [],
   "source": [
    "import cv2\n",
    "import numpy as np"
   ]
  },
  {
   "cell_type": "code",
   "execution_count": 4,
   "id": "143c98c3",
   "metadata": {},
   "outputs": [],
   "source": [
    "src = cv2.imread('../opencv_data/lena.jpg', cv2.IMREAD_GRAYSCALE)"
   ]
  },
  {
   "cell_type": "code",
   "execution_count": 5,
   "id": "64eeafdf",
   "metadata": {},
   "outputs": [
    {
     "data": {
      "text/plain": [
       "(18.0, 248.0, (265, 198), (116, 273))"
      ]
     },
     "execution_count": 5,
     "metadata": {},
     "output_type": "execute_result"
    }
   ],
   "source": [
    "minVal, maxVal, minLoc, maxLoc = cv2.minMaxLoc(src)\n",
    "cv2.minMaxLoc(src)"
   ]
  },
  {
   "cell_type": "code",
   "execution_count": 6,
   "id": "0b12768b",
   "metadata": {},
   "outputs": [
    {
     "data": {
      "text/plain": [
       "(100.0, 200.0, (265, 198), (116, 273))"
      ]
     },
     "execution_count": 6,
     "metadata": {},
     "output_type": "execute_result"
    }
   ],
   "source": [
    "dst = cv2.normalize(src, None, 100, 200, cv2.NORM_MINMAX)\n",
    "minVal, maxVal, minLoc, maxLoc = cv2.minMaxLoc(dst)\n",
    "cv2.minMaxLoc(dst)"
   ]
  },
  {
   "cell_type": "code",
   "execution_count": 7,
   "id": "829e5d9f",
   "metadata": {},
   "outputs": [],
   "source": [
    "cv2.imshow('dst', dst)\n",
    "cv2.imshow('src', src)\n",
    "cv2.waitKey()\n",
    "cv2.destroyAllWindows()"
   ]
  },
  {
   "cell_type": "code",
   "execution_count": null,
   "id": "9f2e46a3",
   "metadata": {},
   "outputs": [],
   "source": []
  }
 ],
 "metadata": {
  "kernelspec": {
   "display_name": "Python 3",
   "language": "python",
   "name": "python3"
  },
  "language_info": {
   "codemirror_mode": {
    "name": "ipython",
    "version": 3
   },
   "file_extension": ".py",
   "mimetype": "text/x-python",
   "name": "python",
   "nbconvert_exporter": "python",
   "pygments_lexer": "ipython3",
   "version": "3.7.10"
  }
 },
 "nbformat": 4,
 "nbformat_minor": 5
}
