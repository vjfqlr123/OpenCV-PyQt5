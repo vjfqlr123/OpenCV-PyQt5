{
 "cells": [
  {
   "cell_type": "code",
   "execution_count": 2,
   "id": "ea532214",
   "metadata": {},
   "outputs": [],
   "source": [
    "import cv2\n",
    "import numpy as np\n",
    "import time"
   ]
  },
  {
   "cell_type": "code",
   "execution_count": 3,
   "id": "377207b6",
   "metadata": {},
   "outputs": [],
   "source": [
    "dst = np.full((512, 512, 3), (255, 255, 255), dtype=np.uint8)\n",
    "nPoints=100\n",
    "pts=np.zeros((1, nPoints, 2), dtype=np.uint16)"
   ]
  },
  {
   "cell_type": "code",
   "execution_count": 4,
   "id": "9658d901",
   "metadata": {},
   "outputs": [
    {
     "data": {
      "text/plain": [
       "array([[[336, 449],\n",
       "        [347, 312],\n",
       "        [492, 428],\n",
       "        [295, 291],\n",
       "        [137, 275],\n",
       "        [433, 141],\n",
       "        [  5, 358],\n",
       "        [227, 314],\n",
       "        [108, 102],\n",
       "        [464, 214],\n",
       "        [291, 354],\n",
       "        [496, 455],\n",
       "        [315, 322],\n",
       "        [ 72, 498],\n",
       "        [239, 150],\n",
       "        [203, 220],\n",
       "        [475, 444],\n",
       "        [109, 470],\n",
       "        [372, 417],\n",
       "        [300, 228],\n",
       "        [  9, 232],\n",
       "        [442, 462],\n",
       "        [315, 384],\n",
       "        [ 60, 289],\n",
       "        [208, 247],\n",
       "        [426, 287],\n",
       "        [346, 355],\n",
       "        [ 80, 123],\n",
       "        [458, 322],\n",
       "        [383,  83],\n",
       "        [383, 499],\n",
       "        [307, 145],\n",
       "        [147, 334],\n",
       "        [208, 354],\n",
       "        [ 33, 234],\n",
       "        [155, 406],\n",
       "        [ 91, 316],\n",
       "        [380,  59],\n",
       "        [314, 341],\n",
       "        [481, 290],\n",
       "        [451,  86],\n",
       "        [379, 214],\n",
       "        [374, 383],\n",
       "        [171, 300],\n",
       "        [411, 311],\n",
       "        [ 53, 152],\n",
       "        [ 66, 127],\n",
       "        [487,   9],\n",
       "        [425,  58],\n",
       "        [173, 365],\n",
       "        [  6, 467],\n",
       "        [213, 510],\n",
       "        [370, 418],\n",
       "        [211, 505],\n",
       "        [179, 396],\n",
       "        [482, 225],\n",
       "        [  9, 179],\n",
       "        [ 80, 276],\n",
       "        [115,  35],\n",
       "        [427, 347],\n",
       "        [ 50, 162],\n",
       "        [ 17, 162],\n",
       "        [301, 148],\n",
       "        [320, 175],\n",
       "        [ 85, 311],\n",
       "        [232, 113],\n",
       "        [357,  84],\n",
       "        [373, 495],\n",
       "        [394, 463],\n",
       "        [106, 242],\n",
       "        [ 99, 296],\n",
       "        [ 61, 204],\n",
       "        [ 97, 357],\n",
       "        [340, 137],\n",
       "        [468, 479],\n",
       "        [246, 387],\n",
       "        [ 27, 226],\n",
       "        [444, 491],\n",
       "        [503, 149],\n",
       "        [186, 492],\n",
       "        [455,  82],\n",
       "        [234, 223],\n",
       "        [284,  47],\n",
       "        [470, 370],\n",
       "        [370, 216],\n",
       "        [501, 339],\n",
       "        [103, 325],\n",
       "        [108, 245],\n",
       "        [448, 242],\n",
       "        [103,  12],\n",
       "        [487, 490],\n",
       "        [464, 178],\n",
       "        [254, 492],\n",
       "        [256,  24],\n",
       "        [ 29, 155],\n",
       "        [184, 108],\n",
       "        [104, 279],\n",
       "        [146, 167],\n",
       "        [445, 462],\n",
       "        [ 58, 374]]], dtype=uint16)"
      ]
     },
     "execution_count": 4,
     "metadata": {},
     "output_type": "execute_result"
    }
   ],
   "source": [
    "cv2.setRNGSeed(int(time.time()))\n",
    "cv2.randu(pts, (0, 0), (512, 512))"
   ]
  },
  {
   "cell_type": "code",
   "execution_count": 5,
   "id": "3ddcc1fe",
   "metadata": {},
   "outputs": [],
   "source": [
    "# draw points\n",
    "for k in range(nPoints):\n",
    "    x, y = pts[0, k][:]\n",
    "    cv2.circle(dst, (x, y), radius = 5, color = (0, 0, 255), thickness = -1)\n",
    "\n",
    "cv2.imshow('dst', dst)\n",
    "cv2.waitKey()\n",
    "cv2.destroyAllWindows()"
   ]
  },
  {
   "cell_type": "code",
   "execution_count": null,
   "id": "f32e1524",
   "metadata": {},
   "outputs": [],
   "source": []
  }
 ],
 "metadata": {
  "kernelspec": {
   "display_name": "Python 3",
   "language": "python",
   "name": "python3"
  },
  "language_info": {
   "codemirror_mode": {
    "name": "ipython",
    "version": 3
   },
   "file_extension": ".py",
   "mimetype": "text/x-python",
   "name": "python",
   "nbconvert_exporter": "python",
   "pygments_lexer": "ipython3",
   "version": "3.7.10"
  }
 },
 "nbformat": 4,
 "nbformat_minor": 5
}
