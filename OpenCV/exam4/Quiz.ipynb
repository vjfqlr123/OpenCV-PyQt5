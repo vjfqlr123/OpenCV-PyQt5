{
 "cells": [
  {
   "cell_type": "code",
   "execution_count": 1,
   "id": "6d2163cd",
   "metadata": {},
   "outputs": [],
   "source": [
    "import cv2\n",
    "import numpy as np"
   ]
  },
  {
   "cell_type": "code",
   "execution_count": 2,
   "id": "fef6a816",
   "metadata": {},
   "outputs": [],
   "source": [
    "img = cv2.imread('../opencv_data/lena.jpg')"
   ]
  },
  {
   "cell_type": "code",
   "execution_count": 7,
   "id": "7d3c66f4",
   "metadata": {},
   "outputs": [],
   "source": [
    "dst1 = cv2.resize(img, dsize=(300,300))\n",
    "dst2 = cv2.resize(img, dsize=(0,0), fx=0.8, fy=1.3)\n",
    "dst3 = cv2.rotate(img, cv2.ROTATE_90_CLOCKWISE)"
   ]
  },
  {
   "cell_type": "code",
   "execution_count": 8,
   "id": "79771180",
   "metadata": {},
   "outputs": [],
   "source": [
    "cv2.imshow('dst1', dst1)\n",
    "cv2.imshow('dst2', dst2)\n",
    "cv2.imshow('dst3', dst3)\n",
    "cv2.waitKey()\n",
    "cv2.destroyAllWindows()"
   ]
  },
  {
   "cell_type": "code",
   "execution_count": null,
   "id": "d7ac20a0",
   "metadata": {},
   "outputs": [],
   "source": []
  }
 ],
 "metadata": {
  "kernelspec": {
   "display_name": "Python 3",
   "language": "python",
   "name": "python3"
  },
  "language_info": {
   "codemirror_mode": {
    "name": "ipython",
    "version": 3
   },
   "file_extension": ".py",
   "mimetype": "text/x-python",
   "name": "python",
   "nbconvert_exporter": "python",
   "pygments_lexer": "ipython3",
   "version": "3.7.10"
  }
 },
 "nbformat": 4,
 "nbformat_minor": 5
}
