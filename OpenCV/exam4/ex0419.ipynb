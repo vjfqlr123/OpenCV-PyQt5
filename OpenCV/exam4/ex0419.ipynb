{
 "cells": [
  {
   "cell_type": "code",
   "execution_count": 1,
   "id": "6a99cfb6",
   "metadata": {},
   "outputs": [],
   "source": [
    "import cv2\n",
    "import numpy as np"
   ]
  },
  {
   "cell_type": "code",
   "execution_count": 2,
   "id": "c574dbc2",
   "metadata": {},
   "outputs": [],
   "source": [
    "src1 = cv2.imread('../opencv_data/lena.jpg', cv2.IMREAD_GRAYSCALE)\n",
    "src2 = np.zeros(shape = (512 ,512), dtype = np.uint8) + 255"
   ]
  },
  {
   "cell_type": "code",
   "execution_count": 7,
   "id": "248fbb2f",
   "metadata": {},
   "outputs": [
    {
     "data": {
      "text/plain": [
       "0"
      ]
     },
     "execution_count": 7,
     "metadata": {},
     "output_type": "execute_result"
    }
   ],
   "source": [
    "dst1 = 255 - src1\n",
    "dst2 = cv2.subtract(src2, src1)\n",
    "dst3 = src2 - src1\n",
    "\n",
    "dst4 = cv2.compare(dst1, dst2, cv2.CMP_NE)\n",
    "n = cv2.countNonZero(dst4)\n",
    "n"
   ]
  },
  {
   "cell_type": "code",
   "execution_count": 8,
   "id": "8a47b6c3",
   "metadata": {},
   "outputs": [],
   "source": [
    "cv2.imshow('dst1', dst1)\n",
    "cv2.imshow('dst2', dst2)\n",
    "cv2.imshow('dst3', dst3)\n",
    "cv2.imshow('dst4', dst4)\n",
    "cv2.waitKey()\n",
    "cv2.destroyAllWindows()"
   ]
  },
  {
   "cell_type": "code",
   "execution_count": null,
   "id": "c32ebc6e",
   "metadata": {},
   "outputs": [],
   "source": []
  }
 ],
 "metadata": {
  "kernelspec": {
   "display_name": "Python 3",
   "language": "python",
   "name": "python3"
  },
  "language_info": {
   "codemirror_mode": {
    "name": "ipython",
    "version": 3
   },
   "file_extension": ".py",
   "mimetype": "text/x-python",
   "name": "python",
   "nbconvert_exporter": "python",
   "pygments_lexer": "ipython3",
   "version": "3.7.10"
  }
 },
 "nbformat": 4,
 "nbformat_minor": 5
}
