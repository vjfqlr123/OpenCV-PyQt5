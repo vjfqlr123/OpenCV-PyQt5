{
 "cells": [
  {
   "cell_type": "code",
   "execution_count": 5,
   "id": "fa33b665",
   "metadata": {},
   "outputs": [],
   "source": [
    "import cv2\n",
    "import numpy as np"
   ]
  },
  {
   "cell_type": "code",
   "execution_count": 7,
   "id": "cd7190fd",
   "metadata": {},
   "outputs": [],
   "source": [
    "pts = np.array([[100, 100], [200, 100], [150, 200], [100, 200], [200, 150]])\n",
    "\n",
    "width, height = 512, 512\n",
    "x, y, R= 256, 256, 100\n",
    "img = np.zeros((width, height, 3), np.uint8) + 255\n",
    "cv2.polylines(img, [pts], isClosed = True, color = (255,0,0))\n",
    "cv2.imshow('img', img)\n",
    "cv2.waitKey()\n",
    "cv2.destroyAllWindows()"
   ]
  },
  {
   "cell_type": "code",
   "execution_count": null,
   "id": "4bd0b682",
   "metadata": {},
   "outputs": [],
   "source": []
  }
 ],
 "metadata": {
  "kernelspec": {
   "display_name": "Python 3",
   "language": "python",
   "name": "python3"
  },
  "language_info": {
   "codemirror_mode": {
    "name": "ipython",
    "version": 3
   },
   "file_extension": ".py",
   "mimetype": "text/x-python",
   "name": "python",
   "nbconvert_exporter": "python",
   "pygments_lexer": "ipython3",
   "version": "3.7.10"
  }
 },
 "nbformat": 4,
 "nbformat_minor": 5
}
