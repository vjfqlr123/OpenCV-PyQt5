{
 "cells": [
  {
   "cell_type": "code",
   "execution_count": 1,
   "id": "1ba9fede",
   "metadata": {},
   "outputs": [],
   "source": [
    "import cv2\n",
    "import numpy as np"
   ]
  },
  {
   "cell_type": "code",
   "execution_count": 2,
   "id": "a489ff6f",
   "metadata": {},
   "outputs": [],
   "source": [
    "img = cv2.imread('../opencv_data/lena.jpg') # 칼라"
   ]
  },
  {
   "cell_type": "code",
   "execution_count": 5,
   "id": "e36ded58",
   "metadata": {},
   "outputs": [],
   "source": [
    "img[100:400, 200:300, 1] = 255\n",
    "img[100:400, 300:400, 1] = 255\n",
    "img[100:400, 400:500, 2] = 255"
   ]
  },
  {
   "cell_type": "code",
   "execution_count": null,
   "id": "6523b2d7",
   "metadata": {},
   "outputs": [],
   "source": [
    "cv2.imshow('img', img)\n",
    "cv2.waitKey()\n",
    "cv2.destroyAllWindows()"
   ]
  },
  {
   "cell_type": "code",
   "execution_count": null,
   "id": "8c90f780",
   "metadata": {},
   "outputs": [],
   "source": []
  }
 ],
 "metadata": {
  "kernelspec": {
   "display_name": "Python 3",
   "language": "python",
   "name": "python3"
  },
  "language_info": {
   "codemirror_mode": {
    "name": "ipython",
    "version": 3
   },
   "file_extension": ".py",
   "mimetype": "text/x-python",
   "name": "python",
   "nbconvert_exporter": "python",
   "pygments_lexer": "ipython3",
   "version": "3.7.10"
  }
 },
 "nbformat": 4,
 "nbformat_minor": 5
}
