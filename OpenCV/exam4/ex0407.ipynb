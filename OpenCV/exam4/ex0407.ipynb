{
 "cells": [
  {
   "cell_type": "code",
   "execution_count": 1,
   "id": "161661df",
   "metadata": {},
   "outputs": [],
   "source": [
    "import cv2"
   ]
  },
  {
   "cell_type": "code",
   "execution_count": 2,
   "id": "9b2531a6",
   "metadata": {},
   "outputs": [
    {
     "data": {
      "text/plain": [
       "(137, 155, 256, 239)"
      ]
     },
     "execution_count": 2,
     "metadata": {},
     "output_type": "execute_result"
    }
   ],
   "source": [
    "src= cv2.imread('../opencv_data/lena.jpg', cv2.IMREAD_GRAYSCALE)\n",
    "roi=cv2.selectROI(src)\n",
    "roi"
   ]
  },
  {
   "cell_type": "code",
   "execution_count": 3,
   "id": "0fabc0dd",
   "metadata": {},
   "outputs": [],
   "source": [
    "img=src[roi[1]:roi[1]+roi[3],\n",
    "       roi[0]:roi[0]+roi[2]]"
   ]
  },
  {
   "cell_type": "code",
   "execution_count": 4,
   "id": "3377c6cc",
   "metadata": {},
   "outputs": [],
   "source": [
    "cv2.imshow('img', img)\n",
    "cv2.waitKey()\n",
    "cv2.destroyAllWindows()"
   ]
  },
  {
   "cell_type": "code",
   "execution_count": null,
   "id": "3fdf1350",
   "metadata": {},
   "outputs": [],
   "source": []
  }
 ],
 "metadata": {
  "kernelspec": {
   "display_name": "Python 3",
   "language": "python",
   "name": "python3"
  },
  "language_info": {
   "codemirror_mode": {
    "name": "ipython",
    "version": 3
   },
   "file_extension": ".py",
   "mimetype": "text/x-python",
   "name": "python",
   "nbconvert_exporter": "python",
   "pygments_lexer": "ipython3",
   "version": "3.7.10"
  }
 },
 "nbformat": 4,
 "nbformat_minor": 5
}
