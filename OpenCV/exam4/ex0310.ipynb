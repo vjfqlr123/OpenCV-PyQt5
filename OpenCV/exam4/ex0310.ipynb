{
 "cells": [
  {
   "cell_type": "code",
   "execution_count": 2,
   "id": "956c0e05",
   "metadata": {},
   "outputs": [],
   "source": [
    "import cv2\n",
    "import numpy as np"
   ]
  },
  {
   "cell_type": "code",
   "execution_count": 3,
   "id": "a850fd56",
   "metadata": {},
   "outputs": [],
   "source": [
    "width, height = 512, 512\n",
    "x, y, R = 256, 256, 50\n",
    "direction = 0"
   ]
  },
  {
   "cell_type": "code",
   "execution_count": 5,
   "id": "6dae833f",
   "metadata": {},
   "outputs": [],
   "source": [
    "while 1:\n",
    "    key = cv2.waitKeyEx(30)\n",
    "    if key == 0x1B:\n",
    "        break;\n",
    "        \n",
    "# 방향키 방향 전환\n",
    "    elif key == 0x270000: # right\n",
    "        direction = 0\n",
    "    elif key == 0x280000: # down\n",
    "        direction = 1\n",
    "    elif key == 0x250000: # left\n",
    "        direction = 2\n",
    "    elif key == 0x260000: # up\n",
    "        direction = 3\n",
    "\n",
    "# 방향으로 이동\n",
    "    if direction == 0: # right\n",
    "        x += 10\n",
    "    elif direction == 1: # down\n",
    "        y += 10\n",
    "    elif direction == 2: # left\n",
    "        x -= 10\n",
    "    else:              # up\n",
    "        y -= 10\n",
    "        \n",
    "# 경계확인\n",
    "    if x < R:\n",
    "        x = R\n",
    "        direction = 0\n",
    "    if x > width - R:\n",
    "        x= width - R\n",
    "        direction = 2\n",
    "    if y < R:\n",
    "        y = R\n",
    "        direction = 1\n",
    "    if y > height - R:\n",
    "        y = height - R\n",
    "        direction = 3\n",
    "\n",
    "# 지우고 그리기\n",
    "    img = np.zeros((width, height, 3), np.uint8) +255\n",
    "    cv2.circle(img, (x, y), R, (0,0,255), -1)\n",
    "    cv2.imshow('img', img)\n",
    "\n",
    "cv2.destroyAllWindows()\n",
    "    "
   ]
  },
  {
   "cell_type": "code",
   "execution_count": null,
   "id": "1f0ac1b1",
   "metadata": {},
   "outputs": [],
   "source": []
  }
 ],
 "metadata": {
  "kernelspec": {
   "display_name": "Python 3",
   "language": "python",
   "name": "python3"
  },
  "language_info": {
   "codemirror_mode": {
    "name": "ipython",
    "version": 3
   },
   "file_extension": ".py",
   "mimetype": "text/x-python",
   "name": "python",
   "nbconvert_exporter": "python",
   "pygments_lexer": "ipython3",
   "version": "3.7.10"
  }
 },
 "nbformat": 4,
 "nbformat_minor": 5
}
